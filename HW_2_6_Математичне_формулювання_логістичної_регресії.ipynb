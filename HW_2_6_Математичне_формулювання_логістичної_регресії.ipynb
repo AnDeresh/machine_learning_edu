{
 "cells": [
  {
   "cell_type": "markdown",
   "metadata": {
    "id": "KxRmdyv5CIZe"
   },
   "source": [
    "В цьому домашньому завданні ми реалізуємо логістичну регресію на `numpy`.\n",
    "Ці завдання допоможуть вам ґрунтовно засвоїти основні концепції логістичної регресії та реалізувати їх на практиці 🔥\n",
    "\n",
    "#### Завдання 1: Реалізація функції сигмоїди\n",
    "1. З використанням `numpy` напишіть функцію `sigmoid(z)` для обчислення значення сигмоїди згідно з формулою:\n",
    "   $$\n",
    "   \\sigma(z) = \\frac{1}{1 + e^{-z}}\n",
    "   $$\n",
    "2. Використовуючи цю функцію, обчисліть значення сигмоїди для наступних даних: $ z = [-2, -1, 0, 1, 2] $. Виведіть результат обчислень.\n"
   ]
  },
  {
   "cell_type": "code",
   "execution_count": 142,
   "metadata": {
    "id": "v9ilfXulL2wP"
   },
   "outputs": [],
   "source": [
    "import numpy as np"
   ]
  },
  {
   "cell_type": "code",
   "execution_count": 143,
   "metadata": {},
   "outputs": [],
   "source": [
    "def sigmoid(z):\n",
    "    return 1/(1+np.exp(-z))"
   ]
  },
  {
   "cell_type": "code",
   "execution_count": 144,
   "metadata": {},
   "outputs": [],
   "source": [
    "z = [-2, -1, 0, 1.2] "
   ]
  },
  {
   "cell_type": "code",
   "execution_count": 145,
   "metadata": {},
   "outputs": [
    {
     "data": {
      "text/plain": [
       "[0.11920292202211755, 0.2689414213699951, 0.5, 0.7685247834990175]"
      ]
     },
     "execution_count": 145,
     "metadata": {},
     "output_type": "execute_result"
    }
   ],
   "source": [
    "[sigmoid(el) for el in z]"
   ]
  },
  {
   "cell_type": "markdown",
   "metadata": {
    "id": "LVd_jCGNCR1F"
   },
   "source": [
    "\n",
    "\n",
    "#### Завдання 2: Реалізація функції гіпотези для логістичної регресії\n",
    "1. Напишіть функцію `hypothesis(theta, X)`, яка обчислює гіпотезу для логістичної регресії, використовуючи функцію сигмоїди. Формула гіпотези:\n",
    "   $$\n",
    "   h_\\theta(x) = \\sigma(\\theta^T x) = \\frac{1}{1 + e^{-\\theta^T x}}\n",
    "   $$\n",
    "2. Використайте функцію `hypothesis` для обчислення значень гіпотези для наступних даних:\n",
    "   \n",
    "   $\\theta = [0.5, -0.5]$\n",
    "   \n",
    "   $X = \\begin{bmatrix} 1 & 2 \\\\ 1 & -1 \\\\ 1 & 0 \\\\ 1 & 1 \\end{bmatrix}$\n",
    "\n",
    "  Виведіть результат обчислень.\n"
   ]
  },
  {
   "cell_type": "code",
   "execution_count": 146,
   "metadata": {
    "id": "dKDHv-YtL3TA"
   },
   "outputs": [],
   "source": [
    "def hypothesis(theta, X):\n",
    "    results = []\n",
    "    for i in range(X.shape[0]):\n",
    "        results.append(sigmoid(np.dot(theta, X[i])))\n",
    "    return results"
   ]
  },
  {
   "cell_type": "code",
   "execution_count": 147,
   "metadata": {
    "scrolled": false
   },
   "outputs": [],
   "source": [
    "sigma = np.array([0.5, -0.5])\n",
    "X = np.array([[1, 2], \n",
    "              [1, -1], \n",
    "              [1, 0], \n",
    "              [1, 1]])"
   ]
  },
  {
   "cell_type": "code",
   "execution_count": 148,
   "metadata": {},
   "outputs": [
    {
     "data": {
      "text/plain": [
       "[0.3775406687981454, 0.7310585786300049, 0.6224593312018546, 0.5]"
      ]
     },
     "execution_count": 148,
     "metadata": {},
     "output_type": "execute_result"
    }
   ],
   "source": [
    "hypothesis(sigma, X)"
   ]
  },
  {
   "cell_type": "markdown",
   "metadata": {
    "id": "MWASH4Z4ClTo"
   },
   "source": [
    "#### Завдання 3: Реалізація функції для підрахунку градієнтів фукнції втрат\n",
    "1. Напишіть функцію `compute_gradient(theta, X, y)`, яка обчислює градієнти функції втрат для логістичної регресії. Формула для обчислення градієнта:\n",
    "   $$\n",
    "   \\frac{\\partial L(\\theta)}{\\partial \\theta_j} = \\frac{1}{m} \\sum_{i=1}^{m} \\left[ (h_\\theta(x^{(i)}) - y^{(i)}) x_j^{(i)} \\right]\n",
    "   $$\n",
    "2. Використайте функцію `compute_gradient` для обчислення градієнтів для наступних даних:\n",
    "\n",
    "  $\\theta = [0.5, -0.5]$\n",
    "\n",
    "  $X = \\begin{bmatrix} 1 & 2 \\\\ 1 & -1 \\\\ 1 & 0 \\\\ 1 & 1 \\end{bmatrix}$\n",
    "\n",
    "  $y = [1, 0, 1, 0]$\n",
    "\n",
    "  Виведіть результат обчислень."
   ]
  },
  {
   "cell_type": "code",
   "execution_count": 149,
   "metadata": {
    "id": "0DM4xqZCL32i"
   },
   "outputs": [],
   "source": [
    "def compute_gradient(theta, X, y):\n",
    "    gradients = []\n",
    "    for i in range(X.shape[0]):\n",
    "        error = hypothesis(theta, X)[i] - y[i]\n",
    "        gradients_for_row = error * X[i]\n",
    "        gradients.append(gradients_for_row)\n",
    "    return sum(np.array(gradients))/X.shape[0]"
   ]
  },
  {
   "cell_type": "code",
   "execution_count": 150,
   "metadata": {},
   "outputs": [],
   "source": [
    "y = np.array([1, 0, 1, 0])"
   ]
  },
  {
   "cell_type": "code",
   "execution_count": 151,
   "metadata": {},
   "outputs": [
    {
     "data": {
      "text/plain": [
       "array([ 0.05776464, -0.36899431])"
      ]
     },
     "execution_count": 151,
     "metadata": {},
     "output_type": "execute_result"
    }
   ],
   "source": [
    "compute_gradient(sigma, X, y)"
   ]
  },
  {
   "cell_type": "markdown",
   "metadata": {
    "id": "nOtJEtdnC1K9"
   },
   "source": [
    "\n",
    "#### Завдання 4: Реалізація повного батч градієнтного спуску\n",
    "\n",
    "**Задача:**\n",
    "1. Напишіть функцію `full_batch_gradient_descent(X, y, lr=0.1, epochs=100)`, яка реалізує алгоритм Full градієнтного спуску для логістичної регресії. Використовуйте такі формули:\n",
    "   - Гіпотеза: $ h_\\theta(x) = \\sigma(\\theta^T x) $\n",
    "   - Оновлення параметрів: $ \\theta_j := \\theta_j - \\alpha \\frac{\\partial L(\\theta)}{\\partial \\theta_j} $\n",
    "2. Використайте функцію `full_batch_gradient_descent` для обчислення параметрів моделі на наступних даних:\n",
    "\n",
    "  $X = \\begin{bmatrix} 1 & 2 \\\\ 1 & -1 \\\\ 1 & 0 \\\\ 1 & 1 \\end{bmatrix}$\n",
    "\n",
    "  $y = [1, 0, 1, 0]$\n",
    "\n",
    "  Увага! Матриця $X$ вже має стовпець одиниць і передбачається, що це. - стовпець для intercept - параметра зсуву.\n",
    "\n",
    "  Виведіть результат обчислень.\n"
   ]
  },
  {
   "cell_type": "code",
   "execution_count": 183,
   "metadata": {
    "id": "fHtUOTxXL4Yy"
   },
   "outputs": [],
   "source": [
    "def full_batch_gradient_descent(X, y, lr=0.1, epochs=100):\n",
    "    sigmas = np.array([0.01, 0.01])\n",
    "    for _ in range(epochs):\n",
    "        for i in range(X.shape[0]):\n",
    "            sigmas[0] -= np.dot(lr, compute_gradient(sigmas, X, y)[0])\n",
    "            sigmas[1] -= np.dot(lr, compute_gradient(sigmas, X, y)[1])\n",
    "    return sigmas"
   ]
  },
  {
   "cell_type": "code",
   "execution_count": 187,
   "metadata": {},
   "outputs": [
    {
     "data": {
      "text/plain": [
       "array([-0.45062651,  0.90565722])"
      ]
     },
     "execution_count": 187,
     "metadata": {},
     "output_type": "execute_result"
    }
   ],
   "source": [
    "full_batch_gradient_descent(X, y, lr=0.1, epochs=100)"
   ]
  },
  {
   "cell_type": "markdown",
   "metadata": {
    "id": "E4iZV55cE5f3"
   },
   "source": [
    "#### Завдання 5. Обчислення точності моделі\n",
    "\n",
    "1. Напишіть функцію `predict_proba(theta, X)`, яка використовує знайдені параметри $\\theta$ для обчислення ймовірностей належності поточного прикладу з даних до класу $y=1$ на основі значень $\\sigma(\\theta^T x)$.\n",
    "\n",
    "2. Напишіть функцію `predict(theta, X, threshold=0.5)`, яка обчислює клас з передбаченої імовірності належності екземпляра до класу 1 з порогом 0.5. Тобто якщо ймовірність менше 0.5, то передбачаємо клас 0, інакше клас 1.\n",
    "\n",
    "3. Напишіть функцію `accuracy(y_true, y_pred)`, яка обчислює точність моделі, визначивши частку правильно передбачених класів.\n",
    "\n",
    "  Формула метрики Accuracy:\n",
    "  $$\n",
    "  \\text{Accuracy} = \\frac{\\sum_{i=1}^{m} I(\\hat{{y}^{(i)}} = y^{(i)})}{m}\n",
    "  $$\n",
    "\n",
    "  де $\\hat{{y}^{(i)}}$ - передбачене значення класу, $I$ - індикаторна функція (яка дорівнює 1, якщо умова виконується, і 0 - якщо ні), $m$ - кількість прикладів.\n",
    "\n",
    "4. Обчисліть з використанням даних в завданні 4 $X$, $y$ та обчислених коефіцієнтах $\\theta$ та виведіть на екран:\n",
    "  - передбачені моделлю імовірності належності кожного з екземплярів в матриці `X` до класу 1\n",
    "  - класи кожного екземпляра з матриці `X`\n",
    "  - точність моделі."
   ]
  },
  {
   "cell_type": "code",
   "execution_count": 232,
   "metadata": {
    "id": "qON93-GBL6Hd"
   },
   "outputs": [],
   "source": [
    "def predict_proba(theta, X):\n",
    "    predict_y = []\n",
    "    for i in range(X.shape[0]):\n",
    "        predict_y.append(np.dot(theta, X[i]))\n",
    "    return predict_y"
   ]
  },
  {
   "cell_type": "code",
   "execution_count": 233,
   "metadata": {},
   "outputs": [],
   "source": [
    "def predict(theta, X, threshold=0.5):\n",
    "    predict_class = []\n",
    "    for i in range(X.shape[0]):\n",
    "        if predict_proba(theta, X)[i] < 0.5:\n",
    "            predict_class.append(0)\n",
    "        else:\n",
    "            predict_class.append(1)\n",
    "    return predict_class"
   ]
  },
  {
   "cell_type": "code",
   "execution_count": 227,
   "metadata": {},
   "outputs": [],
   "source": [
    "def accuracy(y_true, y_pred):\n",
    "    model_accuracy = []\n",
    "    for i in range(len(y_true)):\n",
    "        model_accuracy.append(y_true[i] == y_pred[i])\n",
    "    return sum(model_accuracy)/len(y)"
   ]
  },
  {
   "cell_type": "markdown",
   "metadata": {},
   "source": [
    "Передбачені моделлю імовірності належності кожного з екземплярів в матриці `X` до класу 1:"
   ]
  },
  {
   "cell_type": "code",
   "execution_count": 228,
   "metadata": {
    "scrolled": true
   },
   "outputs": [
    {
     "data": {
      "text/plain": [
       "[1.3606879212630874,\n",
       " -1.3562837301589723,\n",
       " -0.4506265130182858,\n",
       " 0.45503070412240076]"
      ]
     },
     "execution_count": 228,
     "metadata": {},
     "output_type": "execute_result"
    }
   ],
   "source": [
    "predict_proba(full_batch_gradient_descent(X, y, lr=0.1, epochs=100), X)"
   ]
  },
  {
   "cell_type": "markdown",
   "metadata": {},
   "source": [
    "Класи кожного екземпляра з матриці `X`:"
   ]
  },
  {
   "cell_type": "code",
   "execution_count": 231,
   "metadata": {
    "scrolled": true
   },
   "outputs": [
    {
     "data": {
      "text/plain": [
       "[1, 0, 0, 0]"
      ]
     },
     "execution_count": 231,
     "metadata": {},
     "output_type": "execute_result"
    }
   ],
   "source": [
    "y_pred = predict(full_batch_gradient_descent(X, y, lr=0.1, epochs=100), X, threshold=0.5)\n",
    "y_pred"
   ]
  },
  {
   "cell_type": "markdown",
   "metadata": {},
   "source": [
    "Точність моделі:"
   ]
  },
  {
   "cell_type": "code",
   "execution_count": 230,
   "metadata": {},
   "outputs": [
    {
     "data": {
      "text/plain": [
       "0.75"
      ]
     },
     "execution_count": 230,
     "metadata": {},
     "output_type": "execute_result"
    }
   ],
   "source": [
    "accuracy(y, y_pred)"
   ]
  }
 ],
 "metadata": {
  "colab": {
   "provenance": []
  },
  "kernelspec": {
   "display_name": "Python 3 (ipykernel)",
   "language": "python",
   "name": "python3"
  },
  "language_info": {
   "codemirror_mode": {
    "name": "ipython",
    "version": 3
   },
   "file_extension": ".py",
   "mimetype": "text/x-python",
   "name": "python",
   "nbconvert_exporter": "python",
   "pygments_lexer": "ipython3",
   "version": "3.11.5"
  }
 },
 "nbformat": 4,
 "nbformat_minor": 1
}
